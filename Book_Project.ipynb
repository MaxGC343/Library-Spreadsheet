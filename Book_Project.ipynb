{
  "cells": [
    {
      "cell_type": "markdown",
      "metadata": {
        "id": "view-in-github",
        "colab_type": "text"
      },
      "source": [
        "<a href=\"https://colab.research.google.com/github/MaxGC343/Library-Spreadsheet/blob/main/Book_Project.ipynb\" target=\"_parent\"><img src=\"https://colab.research.google.com/assets/colab-badge.svg\" alt=\"Open In Colab\"/></a>"
      ]
    },
    {
      "cell_type": "code",
      "execution_count": null,
      "metadata": {
        "colab": {
          "base_uri": "https://localhost:8080/"
        },
        "id": "gaQGsFICP3rN",
        "outputId": "4feb51fd-4a62-45c0-bb9e-606ca5ae37ec"
      },
      "outputs": [
        {
          "output_type": "stream",
          "name": "stdout",
          "text": [
            "Collecting isbnlib\n",
            "  Downloading isbnlib-3.10.9-py2.py3-none-any.whl (65 kB)\n",
            "\u001b[?25l\r\u001b[K     |█████                           | 10 kB 24.8 MB/s eta 0:00:01\r\u001b[K     |██████████                      | 20 kB 9.1 MB/s eta 0:00:01\r\u001b[K     |███████████████                 | 30 kB 8.3 MB/s eta 0:00:01\r\u001b[K     |████████████████████            | 40 kB 7.6 MB/s eta 0:00:01\r\u001b[K     |█████████████████████████       | 51 kB 5.5 MB/s eta 0:00:01\r\u001b[K     |██████████████████████████████  | 61 kB 5.6 MB/s eta 0:00:01\r\u001b[K     |████████████████████████████████| 65 kB 2.1 MB/s \n",
            "\u001b[?25hInstalling collected packages: isbnlib\n",
            "Successfully installed isbnlib-3.10.9\n",
            "Requirement already satisfied: gspread in /usr/local/lib/python3.7/dist-packages (3.4.2)\n",
            "Collecting gspread\n",
            "  Downloading gspread-5.1.1-py3-none-any.whl (31 kB)\n",
            "Requirement already satisfied: google-auth>=1.12.0 in /usr/local/lib/python3.7/dist-packages (from gspread) (1.35.0)\n",
            "Requirement already satisfied: google-auth-oauthlib>=0.4.1 in /usr/local/lib/python3.7/dist-packages (from gspread) (0.4.6)\n",
            "Requirement already satisfied: setuptools>=40.3.0 in /usr/local/lib/python3.7/dist-packages (from google-auth>=1.12.0->gspread) (57.4.0)\n",
            "Requirement already satisfied: rsa<5,>=3.1.4 in /usr/local/lib/python3.7/dist-packages (from google-auth>=1.12.0->gspread) (4.8)\n",
            "Requirement already satisfied: six>=1.9.0 in /usr/local/lib/python3.7/dist-packages (from google-auth>=1.12.0->gspread) (1.15.0)\n",
            "Requirement already satisfied: pyasn1-modules>=0.2.1 in /usr/local/lib/python3.7/dist-packages (from google-auth>=1.12.0->gspread) (0.2.8)\n",
            "Requirement already satisfied: cachetools<5.0,>=2.0.0 in /usr/local/lib/python3.7/dist-packages (from google-auth>=1.12.0->gspread) (4.2.4)\n",
            "Requirement already satisfied: requests-oauthlib>=0.7.0 in /usr/local/lib/python3.7/dist-packages (from google-auth-oauthlib>=0.4.1->gspread) (1.3.0)\n",
            "Requirement already satisfied: pyasn1<0.5.0,>=0.4.6 in /usr/local/lib/python3.7/dist-packages (from pyasn1-modules>=0.2.1->google-auth>=1.12.0->gspread) (0.4.8)\n",
            "Requirement already satisfied: requests>=2.0.0 in /usr/local/lib/python3.7/dist-packages (from requests-oauthlib>=0.7.0->google-auth-oauthlib>=0.4.1->gspread) (2.23.0)\n",
            "Requirement already satisfied: oauthlib>=3.0.0 in /usr/local/lib/python3.7/dist-packages (from requests-oauthlib>=0.7.0->google-auth-oauthlib>=0.4.1->gspread) (3.1.1)\n",
            "Requirement already satisfied: idna<3,>=2.5 in /usr/local/lib/python3.7/dist-packages (from requests>=2.0.0->requests-oauthlib>=0.7.0->google-auth-oauthlib>=0.4.1->gspread) (2.10)\n",
            "Requirement already satisfied: chardet<4,>=3.0.2 in /usr/local/lib/python3.7/dist-packages (from requests>=2.0.0->requests-oauthlib>=0.7.0->google-auth-oauthlib>=0.4.1->gspread) (3.0.4)\n",
            "Requirement already satisfied: urllib3!=1.25.0,!=1.25.1,<1.26,>=1.21.1 in /usr/local/lib/python3.7/dist-packages (from requests>=2.0.0->requests-oauthlib>=0.7.0->google-auth-oauthlib>=0.4.1->gspread) (1.24.3)\n",
            "Requirement already satisfied: certifi>=2017.4.17 in /usr/local/lib/python3.7/dist-packages (from requests>=2.0.0->requests-oauthlib>=0.7.0->google-auth-oauthlib>=0.4.1->gspread) (2021.10.8)\n",
            "Installing collected packages: gspread\n",
            "  Attempting uninstall: gspread\n",
            "    Found existing installation: gspread 3.4.2\n",
            "    Uninstalling gspread-3.4.2:\n",
            "      Successfully uninstalled gspread-3.4.2\n",
            "Successfully installed gspread-5.1.1\n"
          ]
        }
      ],
      "source": [
        "!pip install isbnlib\n",
        "!pip install --upgrade gspread"
      ]
    },
    {
      "cell_type": "code",
      "execution_count": null,
      "metadata": {
        "colab": {
          "base_uri": "https://localhost:8080/"
        },
        "id": "JYFjm_CtP_JE",
        "outputId": "80f90791-ac02-41cd-e247-a93924826b9b"
      },
      "outputs": [
        {
          "output_type": "stream",
          "name": "stdout",
          "text": [
            "Enter ISBN: 0140150625\n",
            "Have you read this book: No\n",
            "{'ISBN-13': '9780140150629', 'Title': 'The Portable Nietzsche', 'Authors': ['Friedrich Nietzsche'], 'Publisher': 'Penguin', 'Year': '1977', 'Language': 'en'}\n",
            "Add another book? (Y/N)y\n",
            "Enter ISBN: 0881500976\n",
            "Have you read this book: No\n",
            "{'ISBN-13': '9780881500974', 'Title': 'The Castle Of The Demon', 'Authors': ['Patrick Ruell'], 'Publisher': '', 'Year': '1987', 'Language': 'en'}\n",
            "Add another book? (Y/N)y\n",
            "Enter ISBN: 9781593081386\n",
            "Have you read this book: No\n",
            "{'ISBN-13': '9781593081386', 'Title': 'A Tale Of Two Cities', 'Authors': ['Charles Dickens'], 'Publisher': 'Barnes & Noble', 'Year': '2004', 'Language': 'en'}\n",
            "Add another book? (Y/N)y\n",
            "Enter ISBN: 9780486677231\n",
            "Have you read this book: No\n",
            "{'ISBN-13': '9780486677231', 'Title': 'Mathematics For Operations Research', 'Authors': ['W. H. Marlow'], 'Publisher': 'Courier Corporation', 'Year': '1993', 'Language': 'en'}\n",
            "Add another book? (Y/N)y\n",
            "Enter ISBN: 9780061351433\n",
            "Have you read this book: No\n",
            "{'ISBN-13': '9780061351433', 'Title': 'Slash', 'Authors': ['Slash', 'Anthony Bozza'], 'Publisher': 'It Books', 'Year': '2008', 'Language': 'en'}\n",
            "Add another book? (Y/N)y\n",
            "Enter ISBN: 9780785835431\n",
            "Have you read this book: No\n",
            "{'ISBN-13': '9780785835431', 'Title': 'The Essential Nietzsche - Beyond Good And Evil And The Genealogy Of Morals', 'Authors': ['Friedrich Nietzsche'], 'Publisher': 'Chartwell Books', 'Year': '2017', 'Language': 'en'}\n"
          ]
        }
      ],
      "source": [
        "from google.colab import auth\n",
        "auth.authenticate_user()\n",
        "\n",
        "import gspread\n",
        "from oauth2client.client import GoogleCredentials\n",
        "\n",
        "gc = gspread.authorize(GoogleCredentials.get_application_default())\n",
        "\n",
        "worksheet = gc.open('Library').sheet1\n",
        "\n",
        "import isbnlib\n",
        "\n",
        "\n",
        "x = 1\n",
        "\n",
        "while x == 1:\n",
        "  isbn = input(\"Enter ISBN: \")\n",
        "  read = input(\"Have you read this book: \")\n",
        "\n",
        "  book = isbnlib.meta(isbn)\n",
        "  print(book)\n",
        "  Title = book['Title']\n",
        "  Authors = book['Authors']\n",
        "  ISBN = book['ISBN-13']\n",
        "  Year = book['Year']\n",
        "  Publisher = book['Publisher']\n",
        "  Author = ' '.join(Authors)\n",
        "\n",
        "\n",
        "  worksheet.update_cell(len(worksheet.col_values(1))+1, 1, Title)\n",
        "  worksheet.update_cell(len(worksheet.col_values(1)), 2, Author)\n",
        "  worksheet.update_cell(len(worksheet.col_values(1)), 3, read)\n",
        "  worksheet.update_cell(len(worksheet.col_values(1)), 4, ISBN)\n",
        "  worksheet.update_cell(len(worksheet.col_values(1)), 5, Year)\n",
        "  worksheet.update_cell(len(worksheet.col_values(1)), 6, Publisher)\n",
        "\n",
        "  another = input(\"Add another book? (Y/N)\")\n",
        "  if another == 'Y' or another == 'y':\n",
        "    continue\n",
        "  else:\n",
        "    \n",
        "    print(\"Thank you\")\n",
        "    break"
      ]
    },
    {
      "cell_type": "code",
      "execution_count": null,
      "metadata": {
        "id": "vE9CS5AzkzPr"
      },
      "outputs": [],
      "source": [
        ""
      ]
    },
    {
      "cell_type": "code",
      "execution_count": null,
      "metadata": {
        "id": "9qMFVjJJn5QY"
      },
      "outputs": [],
      "source": [
        ""
      ]
    }
  ],
  "metadata": {
    "colab": {
      "name": "Book Project",
      "provenance": [],
      "authorship_tag": "ABX9TyOrsbY2FgfFpIeIPvSfQQva",
      "include_colab_link": true
    },
    "kernelspec": {
      "display_name": "Python 3",
      "name": "python3"
    },
    "language_info": {
      "name": "python"
    }
  },
  "nbformat": 4,
  "nbformat_minor": 0
}